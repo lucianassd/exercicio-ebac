{
 "cells": [
  {
   "cell_type": "markdown",
   "metadata": {},
   "source": [
    "# Módulo 5 Tarefa 1\n",
    "## Base de nascidos vivos do DataSUS\n",
    "O DataSUS disponibiliza diversos arquivos de dados com relação a seus segurados, conforme a [lei da transparência de informações públicas](https://www.sisgov.com/transparencia-acesso-informacao/#:~:text=A%20Lei%20da%20Transpar%C3%AAncia%20(LC,em%20um%20site%20na%20internet.). \n",
    "\n",
    "Essas informações podem ser obtidas pela internet [aqui](http://www2.datasus.gov.br/DATASUS/index.php?area=0901&item=1). Como o processo de obtenção desses arquivos foge um pouco do nosso escopo, deixamos o arquivo ```SINASC_RO_2019.csv``` já como vai ser encontrado no DataSUS. O dicionário de dados está no arquivo ```estrutura_sinasc_para_CD.pdf``` (o nome do arquivo tal qual no portal do DataSUS).\n",
    "\n",
    "### Nosso objetivo\n",
    "Queremos deixar uma base organizada para podermos estudar a relação entre partos com risco para o bebê e algumas condições como tempo de parto, consultas de pré-natal etc.\n",
    "\n",
    "#### Preparação da base\n",
    "1. Carregue a base 'SINASC_RO_2019.csv'. Conte o número de registros e o número de registros não duplicados da base. Dica: você aprendeu um método que remove duplicados, encadeie este método com um outro método que conta o número de linhas. **Há linhas duplicadas?**  \n",
    "\n",
    "2. Conte o número de valores *missing* por variável.  \n",
    "\n",
    "3. Ok, no item anterior você deve ter achado pouco prático ler a informação de tantas variáveis, muitas delas nem devem ser interesantes. Então crie uma seleção dessa base somente com as colunas que interessam. São elas:\n",
    "``` \n",
    "['LOCNASC', 'IDADEMAE', 'ESTCIVMAE', 'ESCMAE', 'QTDFILVIVO', \n",
    "    'GESTACAO', 'GRAVIDEZ', 'CONSULTAS', 'APGAR5'] \n",
    "```\n",
    "Refaça a contagem de valores *missings*.  \n",
    "\n",
    "4. Apgar é uma *nota* que o pediatra dá ao bebê quando nasce de acordo com algumas características associadas principalmente à respiração. Apgar 1 e Apgar 5 são as notas 1 e 5 minutos do nascimento. Apgar5 será a nossa variável de interesse principal. Então remova todos os registros com Apgar5 não preenchido. Para esta seleção, conte novamente o número de linhas e o número de *missings*.  \n",
    "\n",
    "5. observe que as variáveis ```['ESTCIVMAE', 'CONSULTAS']``` possuem o código ```9```, que significa *ignorado*. Vamos assumir que o não preenchido é o mesmo que o código ```9```.<br>\n",
    "6. Substitua os valores faltantes da quantitativa (```QTDFILVIVO```) por zero.  \n",
    "7. Das restantes, decida que valore te parece mais adequado (um 'não preenchido' ou um valor 'mais provável' como no item anterior) e preencha. Justifique. Lembre-se de que tratamento de dados é trabalho do cientista, e que estamos tomando decisões a todo o momento - não há necessariamente certo e errado aqui.  \n",
    "8. O Apgar possui uma classificação indicando se o bebê passou por asfixia:\n",
    "- Entre 8 e 10 está em uma faixa 'normal'. \n",
    "- Entre 6 e 7, significa que o recém-nascido passou por 'asfixia leve'. \n",
    "- Entre 4 e 5 significa 'asfixia moderada'.\n",
    "- Entre 0 e 3 significa 'asfixia severa'.  \n",
    "\n",
    "Crie uma categorização dessa variável com essa codificação e calcule as frequências dessa categorização.  \n",
    "<br>\n",
    "9. Renomeie as variáveis para que fiquem no *snake case*, ou seja, em letras minúsculas, com um *underscore* entre as palávras. Dica: repare que se você não quiser criar um *dataframe* novo, você vai precisar usar a opção ```inplace = True```."
   ]
  },
  {
   "cell_type": "code",
   "execution_count": 1,
   "metadata": {},
   "outputs": [],
   "source": [
    "import pandas as pd\n",
    "import requests"
   ]
  },
  {
   "cell_type": "code",
   "execution_count": 2,
   "metadata": {},
   "outputs": [
    {
     "name": "stdout",
     "output_type": "stream",
     "text": [
      "(27028, 69)\n"
     ]
    },
    {
     "data": {
      "text/plain": [
       "(27028, 69)"
      ]
     },
     "execution_count": 2,
     "metadata": {},
     "output_type": "execute_result"
    }
   ],
   "source": [
    "# 1) seu código aqui\n",
    "\n",
    "sinasc = pd.read_csv('SINASC_RO_2019.csv')\n",
    "print(sinasc.shape) # contagem da quantidade de registros na base\n",
    "sinasc.drop_duplicates().shape # contagem das linhas duplicadas se houver\n",
    "# Não há duplicados"
   ]
  },
  {
   "cell_type": "code",
   "execution_count": 3,
   "metadata": {},
   "outputs": [
    {
     "data": {
      "text/html": [
       "<div>\n",
       "<style scoped>\n",
       "    .dataframe tbody tr th:only-of-type {\n",
       "        vertical-align: middle;\n",
       "    }\n",
       "\n",
       "    .dataframe tbody tr th {\n",
       "        vertical-align: top;\n",
       "    }\n",
       "\n",
       "    .dataframe thead th {\n",
       "        text-align: right;\n",
       "    }\n",
       "</style>\n",
       "<table border=\"1\" class=\"dataframe\">\n",
       "  <thead>\n",
       "    <tr style=\"text-align: right;\">\n",
       "      <th></th>\n",
       "      <th>ORIGEM</th>\n",
       "      <th>CODESTAB</th>\n",
       "      <th>CODMUNNASC</th>\n",
       "      <th>LOCNASC</th>\n",
       "      <th>IDADEMAE</th>\n",
       "      <th>ESTCIVMAE</th>\n",
       "      <th>ESCMAE</th>\n",
       "      <th>CODOCUPMAE</th>\n",
       "      <th>QTDFILVIVO</th>\n",
       "      <th>QTDFILMORT</th>\n",
       "      <th>...</th>\n",
       "      <th>KOTELCHUCK</th>\n",
       "      <th>CONTADOR</th>\n",
       "      <th>munResStatus</th>\n",
       "      <th>munResTipo</th>\n",
       "      <th>munResNome</th>\n",
       "      <th>munResUf</th>\n",
       "      <th>munResLat</th>\n",
       "      <th>munResLon</th>\n",
       "      <th>munResAlt</th>\n",
       "      <th>munResArea</th>\n",
       "    </tr>\n",
       "  </thead>\n",
       "  <tbody>\n",
       "    <tr>\n",
       "      <th>0</th>\n",
       "      <td>1</td>\n",
       "      <td>2679477.0</td>\n",
       "      <td>110001</td>\n",
       "      <td>1</td>\n",
       "      <td>19</td>\n",
       "      <td>5.0</td>\n",
       "      <td>8 a 11 anos</td>\n",
       "      <td>NaN</td>\n",
       "      <td>0.0</td>\n",
       "      <td>0.0</td>\n",
       "      <td>...</td>\n",
       "      <td>5</td>\n",
       "      <td>1</td>\n",
       "      <td>ATIVO</td>\n",
       "      <td>MUNIC</td>\n",
       "      <td>Alta Floresta D'Oeste</td>\n",
       "      <td>Rondônia</td>\n",
       "      <td>-11.93554</td>\n",
       "      <td>-61.99982</td>\n",
       "      <td>338.0</td>\n",
       "      <td>7067.025</td>\n",
       "    </tr>\n",
       "    <tr>\n",
       "      <th>1</th>\n",
       "      <td>1</td>\n",
       "      <td>2679477.0</td>\n",
       "      <td>110001</td>\n",
       "      <td>1</td>\n",
       "      <td>29</td>\n",
       "      <td>2.0</td>\n",
       "      <td>8 a 11 anos</td>\n",
       "      <td>999992.0</td>\n",
       "      <td>1.0</td>\n",
       "      <td>0.0</td>\n",
       "      <td>...</td>\n",
       "      <td>5</td>\n",
       "      <td>2</td>\n",
       "      <td>ATIVO</td>\n",
       "      <td>MUNIC</td>\n",
       "      <td>Alta Floresta D'Oeste</td>\n",
       "      <td>Rondônia</td>\n",
       "      <td>-11.93554</td>\n",
       "      <td>-61.99982</td>\n",
       "      <td>338.0</td>\n",
       "      <td>7067.025</td>\n",
       "    </tr>\n",
       "  </tbody>\n",
       "</table>\n",
       "<p>2 rows × 69 columns</p>\n",
       "</div>"
      ],
      "text/plain": [
       "   ORIGEM   CODESTAB  CODMUNNASC  LOCNASC  IDADEMAE  ESTCIVMAE       ESCMAE  \\\n",
       "0       1  2679477.0      110001        1        19        5.0  8 a 11 anos   \n",
       "1       1  2679477.0      110001        1        29        2.0  8 a 11 anos   \n",
       "\n",
       "   CODOCUPMAE  QTDFILVIVO  QTDFILMORT  ...  KOTELCHUCK CONTADOR munResStatus  \\\n",
       "0         NaN         0.0         0.0  ...           5        1        ATIVO   \n",
       "1    999992.0         1.0         0.0  ...           5        2        ATIVO   \n",
       "\n",
       "  munResTipo             munResNome  munResUf  munResLat munResLon  munResAlt  \\\n",
       "0      MUNIC  Alta Floresta D'Oeste  Rondônia  -11.93554 -61.99982      338.0   \n",
       "1      MUNIC  Alta Floresta D'Oeste  Rondônia  -11.93554 -61.99982      338.0   \n",
       "\n",
       "   munResArea  \n",
       "0    7067.025  \n",
       "1    7067.025  \n",
       "\n",
       "[2 rows x 69 columns]"
      ]
     },
     "execution_count": 3,
     "metadata": {},
     "output_type": "execute_result"
    }
   ],
   "source": [
    "sinasc.head(2) # amostra do dataframe"
   ]
  },
  {
   "cell_type": "code",
   "execution_count": 4,
   "metadata": {},
   "outputs": [
    {
     "data": {
      "text/plain": [
       "DTRECORIGA    27028\n",
       "CODANOMAL     26814\n",
       "IDADEPAI      19421\n",
       "SERIESCMAE    12710\n",
       "DTULTMENST    10072\n",
       "              ...  \n",
       "PESO              0\n",
       "DTCADASTRO        0\n",
       "NUMEROLOTE        0\n",
       "VERSAOSIST        0\n",
       "ORIGEM            0\n",
       "Length: 69, dtype: int64"
      ]
     },
     "execution_count": 4,
     "metadata": {},
     "output_type": "execute_result"
    }
   ],
   "source": [
    "# 2) seu código aqui\n",
    "\n",
    "qtd_nan = sinasc.isna().sum() # verificação de dados faltantes e soma dos mesmos presentes em cada variável\n",
    "qtd_nan.sort_values(ascending=False) # ordenando os valores para decrescente "
   ]
  },
  {
   "cell_type": "code",
   "execution_count": 5,
   "metadata": {},
   "outputs": [
    {
     "data": {
      "text/html": [
       "<div>\n",
       "<style scoped>\n",
       "    .dataframe tbody tr th:only-of-type {\n",
       "        vertical-align: middle;\n",
       "    }\n",
       "\n",
       "    .dataframe tbody tr th {\n",
       "        vertical-align: top;\n",
       "    }\n",
       "\n",
       "    .dataframe thead th {\n",
       "        text-align: right;\n",
       "    }\n",
       "</style>\n",
       "<table border=\"1\" class=\"dataframe\">\n",
       "  <thead>\n",
       "    <tr style=\"text-align: right;\">\n",
       "      <th></th>\n",
       "      <th>LOCNASC</th>\n",
       "      <th>IDADEMAE</th>\n",
       "      <th>ESTCIVMAE</th>\n",
       "      <th>ESCMAE</th>\n",
       "      <th>QTDFILVIVO</th>\n",
       "      <th>GESTACAO</th>\n",
       "      <th>GRAVIDEZ</th>\n",
       "      <th>CONSULTAS</th>\n",
       "      <th>APGAR5</th>\n",
       "    </tr>\n",
       "  </thead>\n",
       "  <tbody>\n",
       "    <tr>\n",
       "      <th>0</th>\n",
       "      <td>1</td>\n",
       "      <td>19</td>\n",
       "      <td>5.0</td>\n",
       "      <td>8 a 11 anos</td>\n",
       "      <td>0.0</td>\n",
       "      <td>37 a 41 semanas</td>\n",
       "      <td>Única</td>\n",
       "      <td>4</td>\n",
       "      <td>10.0</td>\n",
       "    </tr>\n",
       "    <tr>\n",
       "      <th>1</th>\n",
       "      <td>1</td>\n",
       "      <td>29</td>\n",
       "      <td>2.0</td>\n",
       "      <td>8 a 11 anos</td>\n",
       "      <td>1.0</td>\n",
       "      <td>37 a 41 semanas</td>\n",
       "      <td>Única</td>\n",
       "      <td>4</td>\n",
       "      <td>9.0</td>\n",
       "    </tr>\n",
       "    <tr>\n",
       "      <th>2</th>\n",
       "      <td>1</td>\n",
       "      <td>37</td>\n",
       "      <td>9.0</td>\n",
       "      <td>8 a 11 anos</td>\n",
       "      <td>2.0</td>\n",
       "      <td>37 a 41 semanas</td>\n",
       "      <td>Única</td>\n",
       "      <td>4</td>\n",
       "      <td>10.0</td>\n",
       "    </tr>\n",
       "    <tr>\n",
       "      <th>3</th>\n",
       "      <td>1</td>\n",
       "      <td>30</td>\n",
       "      <td>5.0</td>\n",
       "      <td>12 anos ou mais</td>\n",
       "      <td>0.0</td>\n",
       "      <td>37 a 41 semanas</td>\n",
       "      <td>Única</td>\n",
       "      <td>3</td>\n",
       "      <td>10.0</td>\n",
       "    </tr>\n",
       "    <tr>\n",
       "      <th>4</th>\n",
       "      <td>1</td>\n",
       "      <td>30</td>\n",
       "      <td>2.0</td>\n",
       "      <td>8 a 11 anos</td>\n",
       "      <td>1.0</td>\n",
       "      <td>37 a 41 semanas</td>\n",
       "      <td>Única</td>\n",
       "      <td>4</td>\n",
       "      <td>10.0</td>\n",
       "    </tr>\n",
       "  </tbody>\n",
       "</table>\n",
       "</div>"
      ],
      "text/plain": [
       "   LOCNASC  IDADEMAE  ESTCIVMAE           ESCMAE  QTDFILVIVO         GESTACAO  \\\n",
       "0        1        19        5.0      8 a 11 anos         0.0  37 a 41 semanas   \n",
       "1        1        29        2.0      8 a 11 anos         1.0  37 a 41 semanas   \n",
       "2        1        37        9.0      8 a 11 anos         2.0  37 a 41 semanas   \n",
       "3        1        30        5.0  12 anos ou mais         0.0  37 a 41 semanas   \n",
       "4        1        30        2.0      8 a 11 anos         1.0  37 a 41 semanas   \n",
       "\n",
       "  GRAVIDEZ  CONSULTAS  APGAR5  \n",
       "0    Única          4    10.0  \n",
       "1    Única          4     9.0  \n",
       "2    Única          4    10.0  \n",
       "3    Única          3    10.0  \n",
       "4    Única          4    10.0  "
      ]
     },
     "execution_count": 5,
     "metadata": {},
     "output_type": "execute_result"
    }
   ],
   "source": [
    "# 3) seu código aqui\n",
    "\n",
    "df_sinasc = sinasc[['LOCNASC', 'IDADEMAE', 'ESTCIVMAE', 'ESCMAE', 'QTDFILVIVO',\n",
    "                    'GESTACAO', 'GRAVIDEZ', 'CONSULTAS', 'APGAR5'\n",
    "                   ]]  # criação de um dataframe a partir das colunas de interesse \n",
    "\n",
    "df_sinasc.head(5)"
   ]
  },
  {
   "cell_type": "code",
   "execution_count": 6,
   "metadata": {},
   "outputs": [
    {
     "data": {
      "text/plain": [
       "QTDFILVIVO    1573\n",
       "GESTACAO      1232\n",
       "ESTCIVMAE      317\n",
       "ESCMAE         312\n",
       "APGAR5         103\n",
       "GRAVIDEZ        79\n",
       "LOCNASC          0\n",
       "IDADEMAE         0\n",
       "CONSULTAS        0\n",
       "dtype: int64"
      ]
     },
     "execution_count": 6,
     "metadata": {},
     "output_type": "execute_result"
    }
   ],
   "source": [
    "# contagem dos valores faltantes \n",
    "\n",
    "qtd_nan = df_sinasc.isna().sum().sort_values(ascending=False)\n",
    "qtd_nan"
   ]
  },
  {
   "cell_type": "code",
   "execution_count": 7,
   "metadata": {},
   "outputs": [
    {
     "name": "stdout",
     "output_type": "stream",
     "text": [
      "quantidade de linhas na coluna  APGAR5: (27028,)\n",
      "quantidade de dados faltante na coluna APGAR5: 103\n"
     ]
    }
   ],
   "source": [
    "# 4) seu código aqui\n",
    "\n",
    "# contagem do número de linhas da coluna \n",
    "print('quantidade de linhas na coluna  APGAR5:', df_sinasc['APGAR5'].shape)\n",
    "\n",
    "# verifica se há dados faltantes, soma se houvere\n",
    "print(f'quantidade de dados faltante na coluna APGAR5:', df_sinasc['APGAR5'].isna().sum())\n",
    "\n",
    "# limpeza dos dados faltantes na coluna APGAR5 a partir de um vetor booleando de negação, filtrando os valores não NaN\n",
    "df_sinasc = df_sinasc[~df_sinasc.APGAR5.isna()]"
   ]
  },
  {
   "cell_type": "code",
   "execution_count": 8,
   "metadata": {},
   "outputs": [
    {
     "data": {
      "text/plain": [
       "0"
      ]
     },
     "execution_count": 8,
     "metadata": {},
     "output_type": "execute_result"
    }
   ],
   "source": [
    "# conferindo remoção dos dados faltantes na coluna APGAR5\n",
    "df_sinasc['APGAR5'].isna().sum()"
   ]
  },
  {
   "cell_type": "code",
   "execution_count": 9,
   "metadata": {},
   "outputs": [],
   "source": [
    "# 5) seu código aqui\n",
    "\n",
    "df_sinasc['ESTCIVMAE'].fillna(9, inplace=True) # alterando os dados faltantes presentes nas colunas indexadas pelo n° 9"
   ]
  },
  {
   "cell_type": "code",
   "execution_count": 10,
   "metadata": {},
   "outputs": [],
   "source": [
    "# 6) Seu código aqui\n",
    "\n",
    "df_sinasc['QTDFILVIVO'].fillna(0, inplace=True) # alterando os dados faltantes presentes na coluna indexada por 0"
   ]
  },
  {
   "cell_type": "code",
   "execution_count": 11,
   "metadata": {
    "scrolled": true
   },
   "outputs": [
    {
     "name": "stdout",
     "output_type": "stream",
     "text": [
      "LOCNASC          0\n",
      "IDADEMAE         0\n",
      "ESTCIVMAE        0\n",
      "ESCMAE         310\n",
      "QTDFILVIVO       0\n",
      "GESTACAO      1216\n",
      "GRAVIDEZ        76\n",
      "CONSULTAS        0\n",
      "APGAR5           0\n",
      "dtype: int64\n",
      "8 a 11 anos        15581\n",
      "12 anos ou mais     5757\n",
      "4 a 7 anos          4727\n",
      "1 a 3 anos           510\n",
      "Nenhuma               40\n",
      "Name: ESCMAE, dtype: int64\n",
      "37 a 41 semanas        22523\n",
      "32 a 36 semanas         2234\n",
      "42 semanas e mais        698\n",
      "28 a 31 semanas          162\n",
      "22 a 27 semanas           85\n",
      "Menos de 22 semanas        7\n",
      "Name: GESTACAO, dtype: int64\n",
      "Única              26356\n",
      "Dupla                488\n",
      "Tríplice e mais        5\n",
      "Name: GRAVIDEZ, dtype: int64\n"
     ]
    }
   ],
   "source": [
    "# 7) seu código aqui\n",
    "\n",
    "print(df_sinasc.isna().sum()) # verificando quais colunas ainda restam dados faltantes\n",
    "\n",
    "# contando os valores de cada coluna para entender a composição \n",
    "print(df_sinasc['ESCMAE'].value_counts())\n",
    "print(df_sinasc['GESTACAO'].value_counts())\n",
    "print(df_sinasc['GRAVIDEZ'].value_counts())\n",
    "\n",
    "# tratando os dados faltantes preenchendo e alterando\n",
    "df_sinasc['ESCMAE'].fillna('8 a 11 anos', inplace=True)\n",
    "df_sinasc['GESTACAO'].fillna(9, inplace=True)\n",
    "df_sinasc['GRAVIDEZ'].fillna('Única', inplace=True)"
   ]
  },
  {
   "cell_type": "code",
   "execution_count": 12,
   "metadata": {},
   "outputs": [
    {
     "data": {
      "text/plain": [
       "LOCNASC       0\n",
       "IDADEMAE      0\n",
       "ESTCIVMAE     0\n",
       "ESCMAE        0\n",
       "QTDFILVIVO    0\n",
       "GESTACAO      0\n",
       "GRAVIDEZ      0\n",
       "CONSULTAS     0\n",
       "APGAR5        0\n",
       "dtype: int64"
      ]
     },
     "execution_count": 12,
     "metadata": {},
     "output_type": "execute_result"
    }
   ],
   "source": [
    "df_sinasc.isna().sum() # verificar se todos os dados NaN foram tratados"
   ]
  },
  {
   "cell_type": "markdown",
   "metadata": {},
   "source": [
    "#### Explicando a alteração dos dados NaN\n",
    "\n",
    "Para a coluna 'ESCMAE' foi levado em conta que o valor mais frequente é 3 vezes maior que o segundo mais frequente, também foi considerado a proporção dos dados faltantes diante da base, não sendo essa quantidade expressiva o suficiente para contribuir tendenciosamente, sendo assim os dados faltantes dessa coluna foi preenchido com o valor mais frequente da mesma. Na coluna 'GESTACAO' por se tratar talvez da informação mais relevante diante da questão, e também que a quantidade de dados faltantes representa quase metade da quantidade do segundo dado mais frequente na coluna, optei por alterar o dado preenchendo-o como 9 'ignorado'. Na coluna 'GRAVIDEZ' há uma predominância do valor mais frequente em relação a todos os outros, é considerável também que a quantidade de dados faltantes é irrisória diante da base, sendo assim a alteração foi feita com o preenchimento do dado mais frequente na coluna. "
   ]
  },
  {
   "cell_type": "markdown",
   "metadata": {},
   "source": [
    "#### Classificação APGAR5"
   ]
  },
  {
   "cell_type": "markdown",
   "metadata": {},
   "source": [
    "- Entre 8 e 10 está em uma faixa 'normal'\n",
    "- Entre 6 e 7, significa que o recém-nascido passou por 'asfixia leve'\n",
    "- Entre 4 e 5 significa 'asfixia moderada'\n",
    "- Entre 0 e 3 significa 'asfixia severa'\n"
   ]
  },
  {
   "cell_type": "code",
   "execution_count": 13,
   "metadata": {},
   "outputs": [
    {
     "data": {
      "text/plain": [
       "normal              26463\n",
       "asfixia_leve          320\n",
       "asfixia_severa         74\n",
       "asfixia_moderada       68\n",
       "Name: CLASSIFICACAO_APGAR5, dtype: int64"
      ]
     },
     "execution_count": 13,
     "metadata": {},
     "output_type": "execute_result"
    }
   ],
   "source": [
    "# 8) seu código aqui\n",
    "\n",
    "# filtrando o dataframe com as condições das notas do APGAR5, criando a uma nova coluna com e atribuindo a classificação\n",
    "df_sinasc.loc[(df_sinasc['APGAR5'] >= 0) & (df_sinasc['APGAR5'] <= 3), 'CLASSIFICACAO_APGAR5'] = 'asfixia_severa'\n",
    "df_sinasc.loc[(df_sinasc['APGAR5'] >= 4) & (df_sinasc['APGAR5'] <= 5), 'CLASSIFICACAO_APGAR5'] = 'asfixia_moderada'\n",
    "df_sinasc.loc[(df_sinasc['APGAR5'] >= 6) & (df_sinasc['APGAR5'] <= 7), 'CLASSIFICACAO_APGAR5'] = 'asfixia_leve'\n",
    "df_sinasc.loc[(df_sinasc['APGAR5'] >= 8) & (df_sinasc['APGAR5'] <= 10), 'CLASSIFICACAO_APGAR5'] = 'normal'\n",
    "\n",
    "df_sinasc.CLASSIFICACAO_APGAR5.value_counts() # contagem da frequencia de cada classificacao"
   ]
  },
  {
   "cell_type": "code",
   "execution_count": 14,
   "metadata": {},
   "outputs": [
    {
     "data": {
      "text/plain": [
       "Index(['LOCNASC', 'IDADEMAE', 'ESTCIVMAE', 'ESCMAE', 'QTDFILVIVO', 'GESTACAO',\n",
       "       'GRAVIDEZ', 'CONSULTAS', 'APGAR5', 'CLASSIFICACAO_APGAR5'],\n",
       "      dtype='object')"
      ]
     },
     "execution_count": 14,
     "metadata": {},
     "output_type": "execute_result"
    }
   ],
   "source": [
    "# 9) seu código aqui\n",
    "\n",
    "df_sinasc.columns"
   ]
  },
  {
   "cell_type": "code",
   "execution_count": 19,
   "metadata": {},
   "outputs": [],
   "source": [
    "# criando uma variavél com o nome das colunas com novo formato\n",
    "colunas = ['LOC_NASC', 'IDADE_MAE', 'EST_CIV_MAE', 'ESC_MAE', 'QTD_FIL_VIVO', 'GESTACAO',\n",
    "       'GRAVIDEZ', 'CONSULTAS', 'APGAR_5', 'CLASSIFICACAO_APGAR5']\n",
    "\n",
    "df_sinasc.columns = colunas\n"
   ]
  },
  {
   "cell_type": "code",
   "execution_count": 20,
   "metadata": {},
   "outputs": [
    {
     "data": {
      "text/html": [
       "<div>\n",
       "<style scoped>\n",
       "    .dataframe tbody tr th:only-of-type {\n",
       "        vertical-align: middle;\n",
       "    }\n",
       "\n",
       "    .dataframe tbody tr th {\n",
       "        vertical-align: top;\n",
       "    }\n",
       "\n",
       "    .dataframe thead th {\n",
       "        text-align: right;\n",
       "    }\n",
       "</style>\n",
       "<table border=\"1\" class=\"dataframe\">\n",
       "  <thead>\n",
       "    <tr style=\"text-align: right;\">\n",
       "      <th></th>\n",
       "      <th>LOC_NASC</th>\n",
       "      <th>IDADE_MAE</th>\n",
       "      <th>EST_CIV_MAE</th>\n",
       "      <th>ESC_MAE</th>\n",
       "      <th>QTD_FIL_VIVO</th>\n",
       "      <th>GESTACAO</th>\n",
       "      <th>GRAVIDEZ</th>\n",
       "      <th>CONSULTAS</th>\n",
       "      <th>APGAR_5</th>\n",
       "      <th>CLASSIFICACAO_APGAR5</th>\n",
       "    </tr>\n",
       "  </thead>\n",
       "  <tbody>\n",
       "    <tr>\n",
       "      <th>0</th>\n",
       "      <td>1</td>\n",
       "      <td>19</td>\n",
       "      <td>5.0</td>\n",
       "      <td>8 a 11 anos</td>\n",
       "      <td>0.0</td>\n",
       "      <td>37 a 41 semanas</td>\n",
       "      <td>Única</td>\n",
       "      <td>4</td>\n",
       "      <td>10.0</td>\n",
       "      <td>normal</td>\n",
       "    </tr>\n",
       "  </tbody>\n",
       "</table>\n",
       "</div>"
      ],
      "text/plain": [
       "   LOC_NASC  IDADE_MAE  EST_CIV_MAE      ESC_MAE  QTD_FIL_VIVO  \\\n",
       "0         1         19          5.0  8 a 11 anos           0.0   \n",
       "\n",
       "          GESTACAO GRAVIDEZ  CONSULTAS  APGAR_5 CLASSIFICACAO_APGAR5  \n",
       "0  37 a 41 semanas    Única          4     10.0               normal  "
      ]
     },
     "execution_count": 20,
     "metadata": {},
     "output_type": "execute_result"
    }
   ],
   "source": [
    "df_sinasc.head(1)"
   ]
  }
 ],
 "metadata": {
  "kernelspec": {
   "display_name": "Python 3 (ipykernel)",
   "language": "python",
   "name": "python3"
  },
  "language_info": {
   "codemirror_mode": {
    "name": "ipython",
    "version": 3
   },
   "file_extension": ".py",
   "mimetype": "text/x-python",
   "name": "python",
   "nbconvert_exporter": "python",
   "pygments_lexer": "ipython3",
   "version": "3.11.3"
  }
 },
 "nbformat": 4,
 "nbformat_minor": 4
}
